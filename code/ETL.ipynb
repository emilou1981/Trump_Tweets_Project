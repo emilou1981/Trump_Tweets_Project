{
 "cells": [
  {
   "cell_type": "code",
   "execution_count": 1,
   "metadata": {},
   "outputs": [],
   "source": [
    "import pandas as pd\n",
    "from datetime import datetime\n",
    "\n",
    "import sqlalchemy\n",
    "from sqlalchemy.ext.automap import automap_base\n",
    "from sqlalchemy.orm import Session\n",
    "from sqlalchemy import create_engine\n",
    "from sqlalchemy import func, inspect\n",
    "from sqlalchemy import Table, Column, Integer, String, Float, DateTime, MetaData\n"
   ]
  },
  {
   "cell_type": "code",
   "execution_count": 2,
   "metadata": {},
   "outputs": [
    {
     "name": "stdout",
     "output_type": "stream",
     "text": [
      "Starting ETL at: 2020-01-09 19:22:54\n"
     ]
    }
   ],
   "source": [
    "start_dt = datetime.now().strftime('%Y-%m-%d %H:%M:%S')\n",
    "print(f'Starting ETL at: {start_dt}')"
   ]
  },
  {
   "cell_type": "code",
   "execution_count": 6,
   "metadata": {},
   "outputs": [
    {
     "name": "stdout",
     "output_type": "stream",
     "text": [
      "Starting ETL at: 2019-12-26 18:18:15\n"
     ]
    }
   ],
   "source": []
  },
  {
   "cell_type": "code",
   "execution_count": 3,
   "metadata": {},
   "outputs": [],
   "source": [
    "# Create an engine for the  FemaData.db database\n",
    "\n",
    "engine = create_engine(\"sqlite:///../data/data.sqlite\", echo=False)\n",
    "conn = engine.connect()"
   ]
  },
  {
   "cell_type": "code",
   "execution_count": 4,
   "metadata": {},
   "outputs": [],
   "source": [
    "# Reflect Database into ORM classes\n",
    "Base = automap_base()\n",
    "Base.prepare(engine, reflect=True)\n",
    "meta = MetaData()"
   ]
  },
  {
   "cell_type": "code",
   "execution_count": 5,
   "metadata": {},
   "outputs": [
    {
     "data": {
      "text/html": [
       "<div>\n",
       "<style scoped>\n",
       "    .dataframe tbody tr th:only-of-type {\n",
       "        vertical-align: middle;\n",
       "    }\n",
       "\n",
       "    .dataframe tbody tr th {\n",
       "        vertical-align: top;\n",
       "    }\n",
       "\n",
       "    .dataframe thead th {\n",
       "        text-align: right;\n",
       "    }\n",
       "</style>\n",
       "<table border=\"1\" class=\"dataframe\">\n",
       "  <thead>\n",
       "    <tr style=\"text-align: right;\">\n",
       "      <th></th>\n",
       "      <th>source</th>\n",
       "      <th>text</th>\n",
       "      <th>created_at</th>\n",
       "      <th>retweet_count</th>\n",
       "      <th>favorite_count</th>\n",
       "      <th>is_retweet</th>\n",
       "      <th>id_str</th>\n",
       "    </tr>\n",
       "  </thead>\n",
       "  <tbody>\n",
       "    <tr>\n",
       "      <th>0</th>\n",
       "      <td>Twitter for iPhone</td>\n",
       "      <td>RT @realDonaldTrump: https://t.co/WzLB5s41m3</td>\n",
       "      <td>2019-12-18 05:02:13+00:00</td>\n",
       "      <td>20567</td>\n",
       "      <td>0</td>\n",
       "      <td>1.0</td>\n",
       "      <td>1207164139828854784</td>\n",
       "    </tr>\n",
       "    <tr>\n",
       "      <th>1</th>\n",
       "      <td>Twitter for iPhone</td>\n",
       "      <td>.@marcthiessen  “Voters say the Democrats are ...</td>\n",
       "      <td>2019-12-18 04:17:19+00:00</td>\n",
       "      <td>13001</td>\n",
       "      <td>52715</td>\n",
       "      <td>0.0</td>\n",
       "      <td>1207152841854509056</td>\n",
       "    </tr>\n",
       "    <tr>\n",
       "      <th>2</th>\n",
       "      <td>Twitter for iPhone</td>\n",
       "      <td>So, if Comey &amp;amp; the top people in the FBI w...</td>\n",
       "      <td>2019-12-18 04:10:40+00:00</td>\n",
       "      <td>24326</td>\n",
       "      <td>86955</td>\n",
       "      <td>0.0</td>\n",
       "      <td>1207151165894471680</td>\n",
       "    </tr>\n",
       "    <tr>\n",
       "      <th>3</th>\n",
       "      <td>Twitter for iPhone</td>\n",
       "      <td>....They want to Impeach me (I’m not worried!)...</td>\n",
       "      <td>2019-12-18 04:10:40+00:00</td>\n",
       "      <td>17599</td>\n",
       "      <td>67859</td>\n",
       "      <td>0.0</td>\n",
       "      <td>1207151167173775360</td>\n",
       "    </tr>\n",
       "    <tr>\n",
       "      <th>4</th>\n",
       "      <td>Twitter for iPhone</td>\n",
       "      <td>Good marks and reviews on the letter I sent to...</td>\n",
       "      <td>2019-12-18 03:54:22+00:00</td>\n",
       "      <td>28355</td>\n",
       "      <td>115543</td>\n",
       "      <td>0.0</td>\n",
       "      <td>1207147066075549696</td>\n",
       "    </tr>\n",
       "  </tbody>\n",
       "</table>\n",
       "</div>"
      ],
      "text/plain": [
       "               source                                               text  \\\n",
       "0  Twitter for iPhone       RT @realDonaldTrump: https://t.co/WzLB5s41m3   \n",
       "1  Twitter for iPhone  .@marcthiessen  “Voters say the Democrats are ...   \n",
       "2  Twitter for iPhone  So, if Comey &amp; the top people in the FBI w...   \n",
       "3  Twitter for iPhone  ....They want to Impeach me (I’m not worried!)...   \n",
       "4  Twitter for iPhone  Good marks and reviews on the letter I sent to...   \n",
       "\n",
       "                 created_at  retweet_count  favorite_count  is_retweet  \\\n",
       "0 2019-12-18 05:02:13+00:00          20567               0         1.0   \n",
       "1 2019-12-18 04:17:19+00:00          13001           52715         0.0   \n",
       "2 2019-12-18 04:10:40+00:00          24326           86955         0.0   \n",
       "3 2019-12-18 04:10:40+00:00          17599           67859         0.0   \n",
       "4 2019-12-18 03:54:22+00:00          28355          115543         0.0   \n",
       "\n",
       "                id_str  \n",
       "0  1207164139828854784  \n",
       "1  1207152841854509056  \n",
       "2  1207151165894471680  \n",
       "3  1207151167173775360  \n",
       "4  1207147066075549696  "
      ]
     },
     "execution_count": 5,
     "metadata": {},
     "output_type": "execute_result"
    }
   ],
   "source": [
    "filename = \"../data/Trump_Tweets_01012015_12182019.json\"\n",
    "tweets_df = pd.read_json(filename, orient='columns', encoding='utf-8')\n",
    "tweets_df.head()"
   ]
  },
  {
   "cell_type": "code",
   "execution_count": null,
   "metadata": {},
   "outputs": [],
   "source": [
    "retweets = tweets_df[tweets_df[\"is_retweet\"] == 1.0]\n",
    "own_tweets = tweets_df[tweets_df[\"is_retweet\"] == 0.0]\n",
    "retweets.head()"
   ]
  },
  {
   "cell_type": "code",
   "execution_count": null,
   "metadata": {},
   "outputs": [],
   "source": [
    "own_tweets.head()"
   ]
  },
  {
   "cell_type": "code",
   "execution_count": null,
   "metadata": {},
   "outputs": [],
   "source": [
    "own_tweets = own_tweets.drop(columns=['is_retweet'])\n",
    "own_tweets.head()"
   ]
  },
  {
   "cell_type": "code",
   "execution_count": null,
   "metadata": {},
   "outputs": [],
   "source": [
    "retweets = retweets.drop(columns=['is_retweet'])\n",
    "retweets.head()"
   ]
  },
  {
   "cell_type": "code",
   "execution_count": null,
   "metadata": {
    "scrolled": true
   },
   "outputs": [],
   "source": [
    "tweets = Table(\n",
    "   'tweets', meta, \n",
    "    Column('source',String), \n",
    "    Column('text', String), \n",
    "    Column('created_at', DateTime),\n",
    "    Column('retweet_count', Integer),\n",
    "    Column('favorite_count', Integer),\n",
    "    Column('id_str', Integer, primary_key = True)\n",
    ")\n"
   ]
  },
  {
   "cell_type": "code",
   "execution_count": null,
   "metadata": {},
   "outputs": [],
   "source": [
    "# - Don't really need this data duplication.  \n",
    "# Column is_retweet: 0 (zero) == No, 1 == yes\n",
    "\n",
    "no_retweets = Table(\n",
    "   'retweets', meta, \n",
    "    Column('source',String), \n",
    "    Column('text', String), \n",
    "    Column('created_at', DateTime),\n",
    "    Column('retweet_count', Integer),\n",
    "    Column('favorite_count', Integer),\n",
    "    Column('id_str', Integer, primary_key = True)\n",
    ")\n"
   ]
  },
  {
   "cell_type": "code",
   "execution_count": null,
   "metadata": {},
   "outputs": [],
   "source": [
    "#- bind engine, then drop all tables\n",
    "meta.bind = engine\n",
    "meta.drop_all()"
   ]
  },
  {
   "cell_type": "code",
   "execution_count": null,
   "metadata": {},
   "outputs": [],
   "source": [
    "meta.create_all()"
   ]
  },
  {
   "cell_type": "code",
   "execution_count": null,
   "metadata": {},
   "outputs": [],
   "source": [
    "own_tweets.dtypes"
   ]
  },
  {
   "cell_type": "code",
   "execution_count": null,
   "metadata": {},
   "outputs": [],
   "source": [
    "retweets.dtypes"
   ]
  },
  {
   "cell_type": "code",
   "execution_count": null,
   "metadata": {},
   "outputs": [],
   "source": [
    "own_tweets.to_sql('tweets', conn, if_exists='append', index=False, index_label=\"id_str\")\n",
    "retweets.to_sql('retweets', conn, if_exists='append', index=False, index_label=\"id_str\")"
   ]
  },
  {
   "cell_type": "code",
   "execution_count": null,
   "metadata": {},
   "outputs": [],
   "source": [
    "# Compact/compress db after working on it.\n",
    "engine.execute(\"VACUUM\")"
   ]
  },
  {
   "cell_type": "code",
   "execution_count": null,
   "metadata": {},
   "outputs": [],
   "source": [
    "conn.close"
   ]
  },
  {
   "cell_type": "code",
   "execution_count": null,
   "metadata": {},
   "outputs": [],
   "source": [
    "df_tweets_only = own_tweets['text']"
   ]
  },
  {
   "cell_type": "code",
   "execution_count": null,
   "metadata": {},
   "outputs": [],
   "source": [
    "df_tweets_only.to_csv('../data/tweet_only.csv', index=False, header=['text'])"
   ]
  },
  {
   "cell_type": "code",
   "execution_count": null,
   "metadata": {},
   "outputs": [],
   "source": [
    "end_dt = datetime.now().strftime('%Y-%m-%d %H:%M:%S')\n",
    "print(f'ETL END at: {end_dt}')"
   ]
  }
 ],
 "metadata": {
  "kernelspec": {
   "display_name": "Python [conda env:pandas] *",
   "language": "python",
   "name": "conda-env-pandas-py"
  },
  "language_info": {
   "codemirror_mode": {
    "name": "ipython",
    "version": 3
   },
   "file_extension": ".py",
   "mimetype": "text/x-python",
   "name": "python",
   "nbconvert_exporter": "python",
   "pygments_lexer": "ipython3",
   "version": "3.6.9"
  }
 },
 "nbformat": 4,
 "nbformat_minor": 2
}
