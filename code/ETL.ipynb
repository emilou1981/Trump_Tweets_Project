{
 "cells": [
  {
   "cell_type": "code",
   "execution_count": 1,
   "metadata": {},
   "outputs": [],
   "source": [
    "import pandas as pd\n",
    "from datetime import datetime\n",
    "\n",
    "import sqlalchemy\n",
    "from sqlalchemy.ext.automap import automap_base\n",
    "from sqlalchemy.orm import Session\n",
    "from sqlalchemy import create_engine\n",
    "from sqlalchemy import func, inspect\n",
    "from sqlalchemy import Table, Column, Integer, String, Float, DateTime, MetaData\n"
   ]
  },
  {
   "cell_type": "code",
   "execution_count": 3,
   "metadata": {},
   "outputs": [],
   "source": [
    "start_dt = datetime.now().strftime('%Y-%m-%d %H:%M:%S')\n",
    "print(f'Starting ETL at: {start_dt}')"
   ]
  },
  {
   "cell_type": "code",
   "execution_count": 6,
   "metadata": {},
   "outputs": [
    {
     "name": "stdout",
     "output_type": "stream",
     "text": [
      "Starting ETL at: 2019-12-26 18:18:15\n"
     ]
    }
   ],
   "source": []
  },
  {
   "cell_type": "code",
   "execution_count": null,
   "metadata": {},
   "outputs": [],
   "source": [
    "# Create an engine for the  FemaData.db database\n",
    "\n",
    "engine = create_engine(\"sqlite:///../data/data.sqlite\", echo=False)\n",
    "conn = engine.connect()"
   ]
  },
  {
   "cell_type": "code",
   "execution_count": null,
   "metadata": {},
   "outputs": [],
   "source": [
    "# Reflect Database into ORM classes\n",
    "Base = automap_base()\n",
    "Base.prepare(engine, reflect=True)\n",
    "meta = MetaData()"
   ]
  },
  {
   "cell_type": "code",
   "execution_count": null,
   "metadata": {},
   "outputs": [],
   "source": [
    "filename = \"../data/Trump_Tweets_01012015_12182019.json\"\n",
    "tweets_df = pd.read_json(filename, orient='columns', encoding='utf-8')\n",
    "tweets_df.head()"
   ]
  },
  {
   "cell_type": "code",
   "execution_count": null,
   "metadata": {},
   "outputs": [],
   "source": [
    "retweets = tweets_df[tweets_df[\"is_retweet\"] == 1.0]\n",
    "own_tweets = tweets_df[tweets_df[\"is_retweet\"] == 0.0]\n",
    "retweets.head()"
   ]
  },
  {
   "cell_type": "code",
   "execution_count": null,
   "metadata": {},
   "outputs": [],
   "source": [
    "own_tweets.head()"
   ]
  },
  {
   "cell_type": "code",
   "execution_count": null,
   "metadata": {},
   "outputs": [],
   "source": [
    "own_tweets = own_tweets.drop(columns=['is_retweet'])\n",
    "own_tweets.head()"
   ]
  },
  {
   "cell_type": "code",
   "execution_count": null,
   "metadata": {},
   "outputs": [],
   "source": [
    "retweets = retweets.drop(columns=['is_retweet'])\n",
    "retweets.head()"
   ]
  },
  {
   "cell_type": "code",
   "execution_count": null,
   "metadata": {
    "scrolled": true
   },
   "outputs": [],
   "source": [
    "tweets = Table(\n",
    "   'tweets', meta, \n",
    "    Column('source',String), \n",
    "    Column('text', String), \n",
    "    Column('created_at', DateTime),\n",
    "    Column('retweet_count', Integer),\n",
    "    Column('favorite_count', Integer),\n",
    "    Column('id_str', Integer, primary_key = True)\n",
    ")\n"
   ]
  },
  {
   "cell_type": "code",
   "execution_count": null,
   "metadata": {},
   "outputs": [],
   "source": [
    "# - Don't really need this data duplication.  \n",
    "# Column is_retweet: 0 (zero) == No, 1 == yes\n",
    "\n",
    "no_retweets = Table(\n",
    "   'retweets', meta, \n",
    "    Column('source',String), \n",
    "    Column('text', String), \n",
    "    Column('created_at', DateTime),\n",
    "    Column('retweet_count', Integer),\n",
    "    Column('favorite_count', Integer),\n",
    "    Column('id_str', Integer, primary_key = True)\n",
    ")\n"
   ]
  },
  {
   "cell_type": "code",
   "execution_count": null,
   "metadata": {},
   "outputs": [],
   "source": [
    "#- bind engine, then drop all tables\n",
    "meta.bind = engine\n",
    "meta.drop_all()"
   ]
  },
  {
   "cell_type": "code",
   "execution_count": null,
   "metadata": {},
   "outputs": [],
   "source": [
    "meta.create_all()"
   ]
  },
  {
   "cell_type": "code",
   "execution_count": null,
   "metadata": {},
   "outputs": [],
   "source": [
    "own_tweets.dtypes"
   ]
  },
  {
   "cell_type": "code",
   "execution_count": null,
   "metadata": {},
   "outputs": [],
   "source": [
    "retweets.dtypes"
   ]
  },
  {
   "cell_type": "code",
   "execution_count": null,
   "metadata": {},
   "outputs": [],
   "source": [
    "own_tweets.to_sql('tweets', conn, if_exists='append', index=False, index_label=\"id_str\")\n",
    "retweets.to_sql('retweets', conn, if_exists='append', index=False, index_label=\"id_str\")"
   ]
  },
  {
   "cell_type": "code",
   "execution_count": null,
   "metadata": {},
   "outputs": [],
   "source": [
    "# Compact/compress db after working on it.\n",
    "engine.execute(\"VACUUM\")"
   ]
  },
  {
   "cell_type": "code",
   "execution_count": null,
   "metadata": {},
   "outputs": [],
   "source": [
    "conn.close"
   ]
  },
  {
   "cell_type": "code",
   "execution_count": null,
   "metadata": {},
   "outputs": [],
   "source": [
    "df_tweets_only = own_tweets['text']"
   ]
  },
  {
   "cell_type": "code",
   "execution_count": null,
   "metadata": {},
   "outputs": [],
   "source": [
    "df_tweets_only.to_csv('../data/tweet_only.csv', index=False, header=['text'])"
   ]
  },
  {
   "cell_type": "code",
   "execution_count": null,
   "metadata": {},
   "outputs": [],
   "source": [
    "end_dt = datetime.now().strftime('%Y-%m-%d %H:%M:%S')\n",
    "print(f'ETL END at: {end_dt}')"
   ]
  }
 ],
 "metadata": {
  "kernelspec": {
   "display_name": "Python [conda env:pandas] *",
   "language": "python",
   "name": "conda-env-pandas-py"
  },
  "language_info": {
   "codemirror_mode": {
    "name": "ipython",
    "version": 3
   },
   "file_extension": ".py",
   "mimetype": "text/x-python",
   "name": "python",
   "nbconvert_exporter": "python",
   "pygments_lexer": "ipython3",
   "version": "3.6.9"
  }
 },
 "nbformat": 4,
 "nbformat_minor": 2
}
