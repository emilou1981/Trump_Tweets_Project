{
 "cells": [
  {
   "cell_type": "code",
   "execution_count": 2,
   "metadata": {},
   "outputs": [],
   "source": [
    "import pandas as pd\n",
    "\n",
    "import sqlalchemy\n",
    "from sqlalchemy.ext.automap import automap_base\n",
    "from sqlalchemy.orm import Session\n",
    "from sqlalchemy import create_engine\n",
    "from sqlalchemy import func, inspect\n",
    "from sqlalchemy import Table, Column, Integer, String, Float, DateTime, MetaData\n"
   ]
  },
  {
   "cell_type": "code",
   "execution_count": 3,
   "metadata": {},
   "outputs": [],
   "source": [
    "# Create an engine for the  FemaData.db database\n",
    "\n",
    "engine = create_engine(\"sqlite:///../data/data.sqlite\", echo=False)\n",
    "conn = engine.connect()"
   ]
  },
  {
   "cell_type": "code",
   "execution_count": 4,
   "metadata": {},
   "outputs": [],
   "source": [
    "# Reflect Database into ORM classes\n",
    "Base = automap_base()\n",
    "Base.prepare(engine, reflect=True)\n",
    "meta = MetaData()"
   ]
  },
  {
   "cell_type": "code",
   "execution_count": 11,
   "metadata": {},
   "outputs": [
    {
     "data": {
      "text/html": [
       "<div>\n",
       "<style scoped>\n",
       "    .dataframe tbody tr th:only-of-type {\n",
       "        vertical-align: middle;\n",
       "    }\n",
       "\n",
       "    .dataframe tbody tr th {\n",
       "        vertical-align: top;\n",
       "    }\n",
       "\n",
       "    .dataframe thead th {\n",
       "        text-align: right;\n",
       "    }\n",
       "</style>\n",
       "<table border=\"1\" class=\"dataframe\">\n",
       "  <thead>\n",
       "    <tr style=\"text-align: right;\">\n",
       "      <th></th>\n",
       "      <th>source</th>\n",
       "      <th>text</th>\n",
       "      <th>created_at</th>\n",
       "      <th>retweet_count</th>\n",
       "      <th>favorite_count</th>\n",
       "      <th>is_retweet</th>\n",
       "      <th>id_str</th>\n",
       "    </tr>\n",
       "  </thead>\n",
       "  <tbody>\n",
       "    <tr>\n",
       "      <th>0</th>\n",
       "      <td>Twitter for iPhone</td>\n",
       "      <td>RT @realDonaldTrump: https://t.co/WzLB5s41m3</td>\n",
       "      <td>2019-12-18 05:02:13+00:00</td>\n",
       "      <td>20567</td>\n",
       "      <td>0</td>\n",
       "      <td>1.0</td>\n",
       "      <td>1207164139828854784</td>\n",
       "    </tr>\n",
       "    <tr>\n",
       "      <th>1</th>\n",
       "      <td>Twitter for iPhone</td>\n",
       "      <td>.@marcthiessen  “Voters say the Democrats are ...</td>\n",
       "      <td>2019-12-18 04:17:19+00:00</td>\n",
       "      <td>13001</td>\n",
       "      <td>52715</td>\n",
       "      <td>0.0</td>\n",
       "      <td>1207152841854509056</td>\n",
       "    </tr>\n",
       "    <tr>\n",
       "      <th>2</th>\n",
       "      <td>Twitter for iPhone</td>\n",
       "      <td>So, if Comey &amp;amp; the top people in the FBI w...</td>\n",
       "      <td>2019-12-18 04:10:40+00:00</td>\n",
       "      <td>24326</td>\n",
       "      <td>86955</td>\n",
       "      <td>0.0</td>\n",
       "      <td>1207151165894471680</td>\n",
       "    </tr>\n",
       "    <tr>\n",
       "      <th>3</th>\n",
       "      <td>Twitter for iPhone</td>\n",
       "      <td>....They want to Impeach me (I’m not worried!)...</td>\n",
       "      <td>2019-12-18 04:10:40+00:00</td>\n",
       "      <td>17599</td>\n",
       "      <td>67859</td>\n",
       "      <td>0.0</td>\n",
       "      <td>1207151167173775360</td>\n",
       "    </tr>\n",
       "    <tr>\n",
       "      <th>4</th>\n",
       "      <td>Twitter for iPhone</td>\n",
       "      <td>Good marks and reviews on the letter I sent to...</td>\n",
       "      <td>2019-12-18 03:54:22+00:00</td>\n",
       "      <td>28355</td>\n",
       "      <td>115543</td>\n",
       "      <td>0.0</td>\n",
       "      <td>1207147066075549696</td>\n",
       "    </tr>\n",
       "  </tbody>\n",
       "</table>\n",
       "</div>"
      ],
      "text/plain": [
       "               source                                               text  \\\n",
       "0  Twitter for iPhone       RT @realDonaldTrump: https://t.co/WzLB5s41m3   \n",
       "1  Twitter for iPhone  .@marcthiessen  “Voters say the Democrats are ...   \n",
       "2  Twitter for iPhone  So, if Comey &amp; the top people in the FBI w...   \n",
       "3  Twitter for iPhone  ....They want to Impeach me (I’m not worried!)...   \n",
       "4  Twitter for iPhone  Good marks and reviews on the letter I sent to...   \n",
       "\n",
       "                 created_at  retweet_count  favorite_count  is_retweet  \\\n",
       "0 2019-12-18 05:02:13+00:00          20567               0         1.0   \n",
       "1 2019-12-18 04:17:19+00:00          13001           52715         0.0   \n",
       "2 2019-12-18 04:10:40+00:00          24326           86955         0.0   \n",
       "3 2019-12-18 04:10:40+00:00          17599           67859         0.0   \n",
       "4 2019-12-18 03:54:22+00:00          28355          115543         0.0   \n",
       "\n",
       "                id_str  \n",
       "0  1207164139828854784  \n",
       "1  1207152841854509056  \n",
       "2  1207151165894471680  \n",
       "3  1207151167173775360  \n",
       "4  1207147066075549696  "
      ]
     },
     "execution_count": 11,
     "metadata": {},
     "output_type": "execute_result"
    }
   ],
   "source": [
    "filename = \"../Trump_Tweets_01012015_12182019.json\"\n",
    "tweets_df = pd.read_json(filename, orient='columns', encoding='utf-8')\n",
    "tweets_df.head()"
   ]
  },
  {
   "cell_type": "code",
   "execution_count": 23,
   "metadata": {},
   "outputs": [
    {
     "data": {
      "text/html": [
       "<div>\n",
       "<style scoped>\n",
       "    .dataframe tbody tr th:only-of-type {\n",
       "        vertical-align: middle;\n",
       "    }\n",
       "\n",
       "    .dataframe tbody tr th {\n",
       "        vertical-align: top;\n",
       "    }\n",
       "\n",
       "    .dataframe thead th {\n",
       "        text-align: right;\n",
       "    }\n",
       "</style>\n",
       "<table border=\"1\" class=\"dataframe\">\n",
       "  <thead>\n",
       "    <tr style=\"text-align: right;\">\n",
       "      <th></th>\n",
       "      <th>source</th>\n",
       "      <th>text</th>\n",
       "      <th>created_at</th>\n",
       "      <th>retweet_count</th>\n",
       "      <th>favorite_count</th>\n",
       "      <th>is_retweet</th>\n",
       "      <th>id_str</th>\n",
       "    </tr>\n",
       "  </thead>\n",
       "  <tbody>\n",
       "    <tr>\n",
       "      <th>0</th>\n",
       "      <td>Twitter for iPhone</td>\n",
       "      <td>RT @realDonaldTrump: https://t.co/WzLB5s41m3</td>\n",
       "      <td>2019-12-18 05:02:13+00:00</td>\n",
       "      <td>20567</td>\n",
       "      <td>0</td>\n",
       "      <td>1.0</td>\n",
       "      <td>1207164139828854784</td>\n",
       "    </tr>\n",
       "    <tr>\n",
       "      <th>25</th>\n",
       "      <td>Twitter for iPhone</td>\n",
       "      <td>RT @T_S_P_O_O_K_Y: It's either incompetence or...</td>\n",
       "      <td>2019-12-16 15:11:04+00:00</td>\n",
       "      <td>12709</td>\n",
       "      <td>0</td>\n",
       "      <td>1.0</td>\n",
       "      <td>1206592587278299136</td>\n",
       "    </tr>\n",
       "    <tr>\n",
       "      <th>26</th>\n",
       "      <td>Twitter for iPhone</td>\n",
       "      <td>RT @steph93065: You know why President Trump a...</td>\n",
       "      <td>2019-12-16 15:10:07+00:00</td>\n",
       "      <td>21466</td>\n",
       "      <td>0</td>\n",
       "      <td>1.0</td>\n",
       "      <td>1206592346445492224</td>\n",
       "    </tr>\n",
       "    <tr>\n",
       "      <th>27</th>\n",
       "      <td>Twitter for iPhone</td>\n",
       "      <td>RT @RudyGiuliani: Dem’s impeachment for innoce...</td>\n",
       "      <td>2019-12-16 15:09:35+00:00</td>\n",
       "      <td>26859</td>\n",
       "      <td>0</td>\n",
       "      <td>1.0</td>\n",
       "      <td>1206592211812532224</td>\n",
       "    </tr>\n",
       "    <tr>\n",
       "      <th>28</th>\n",
       "      <td>Twitter for iPhone</td>\n",
       "      <td>RT @RudyGiuliani: Witness Yuri Lutsenko, inher...</td>\n",
       "      <td>2019-12-16 15:09:28+00:00</td>\n",
       "      <td>24463</td>\n",
       "      <td>0</td>\n",
       "      <td>1.0</td>\n",
       "      <td>1206592182993506304</td>\n",
       "    </tr>\n",
       "  </tbody>\n",
       "</table>\n",
       "</div>"
      ],
      "text/plain": [
       "                source                                               text  \\\n",
       "0   Twitter for iPhone       RT @realDonaldTrump: https://t.co/WzLB5s41m3   \n",
       "25  Twitter for iPhone  RT @T_S_P_O_O_K_Y: It's either incompetence or...   \n",
       "26  Twitter for iPhone  RT @steph93065: You know why President Trump a...   \n",
       "27  Twitter for iPhone  RT @RudyGiuliani: Dem’s impeachment for innoce...   \n",
       "28  Twitter for iPhone  RT @RudyGiuliani: Witness Yuri Lutsenko, inher...   \n",
       "\n",
       "                  created_at  retweet_count  favorite_count  is_retweet  \\\n",
       "0  2019-12-18 05:02:13+00:00          20567               0         1.0   \n",
       "25 2019-12-16 15:11:04+00:00          12709               0         1.0   \n",
       "26 2019-12-16 15:10:07+00:00          21466               0         1.0   \n",
       "27 2019-12-16 15:09:35+00:00          26859               0         1.0   \n",
       "28 2019-12-16 15:09:28+00:00          24463               0         1.0   \n",
       "\n",
       "                 id_str  \n",
       "0   1207164139828854784  \n",
       "25  1206592587278299136  \n",
       "26  1206592346445492224  \n",
       "27  1206592211812532224  \n",
       "28  1206592182993506304  "
      ]
     },
     "execution_count": 23,
     "metadata": {},
     "output_type": "execute_result"
    }
   ],
   "source": [
    "retweets = tweets_df[tweets_df[\"is_retweet\"] == 1.0]\n",
    "own_tweets = tweets_df[tweets_df[\"is_retweet\"] == 0.0]\n",
    "retweets.head()"
   ]
  },
  {
   "cell_type": "code",
   "execution_count": 24,
   "metadata": {},
   "outputs": [
    {
     "data": {
      "text/html": [
       "<div>\n",
       "<style scoped>\n",
       "    .dataframe tbody tr th:only-of-type {\n",
       "        vertical-align: middle;\n",
       "    }\n",
       "\n",
       "    .dataframe tbody tr th {\n",
       "        vertical-align: top;\n",
       "    }\n",
       "\n",
       "    .dataframe thead th {\n",
       "        text-align: right;\n",
       "    }\n",
       "</style>\n",
       "<table border=\"1\" class=\"dataframe\">\n",
       "  <thead>\n",
       "    <tr style=\"text-align: right;\">\n",
       "      <th></th>\n",
       "      <th>source</th>\n",
       "      <th>text</th>\n",
       "      <th>created_at</th>\n",
       "      <th>retweet_count</th>\n",
       "      <th>favorite_count</th>\n",
       "      <th>is_retweet</th>\n",
       "      <th>id_str</th>\n",
       "    </tr>\n",
       "  </thead>\n",
       "  <tbody>\n",
       "    <tr>\n",
       "      <th>1</th>\n",
       "      <td>Twitter for iPhone</td>\n",
       "      <td>.@marcthiessen  “Voters say the Democrats are ...</td>\n",
       "      <td>2019-12-18 04:17:19+00:00</td>\n",
       "      <td>13001</td>\n",
       "      <td>52715</td>\n",
       "      <td>0.0</td>\n",
       "      <td>1207152841854509056</td>\n",
       "    </tr>\n",
       "    <tr>\n",
       "      <th>2</th>\n",
       "      <td>Twitter for iPhone</td>\n",
       "      <td>So, if Comey &amp;amp; the top people in the FBI w...</td>\n",
       "      <td>2019-12-18 04:10:40+00:00</td>\n",
       "      <td>24326</td>\n",
       "      <td>86955</td>\n",
       "      <td>0.0</td>\n",
       "      <td>1207151165894471680</td>\n",
       "    </tr>\n",
       "    <tr>\n",
       "      <th>3</th>\n",
       "      <td>Twitter for iPhone</td>\n",
       "      <td>....They want to Impeach me (I’m not worried!)...</td>\n",
       "      <td>2019-12-18 04:10:40+00:00</td>\n",
       "      <td>17599</td>\n",
       "      <td>67859</td>\n",
       "      <td>0.0</td>\n",
       "      <td>1207151167173775360</td>\n",
       "    </tr>\n",
       "    <tr>\n",
       "      <th>4</th>\n",
       "      <td>Twitter for iPhone</td>\n",
       "      <td>Good marks and reviews on the letter I sent to...</td>\n",
       "      <td>2019-12-18 03:54:22+00:00</td>\n",
       "      <td>28355</td>\n",
       "      <td>115543</td>\n",
       "      <td>0.0</td>\n",
       "      <td>1207147066075549696</td>\n",
       "    </tr>\n",
       "    <tr>\n",
       "      <th>5</th>\n",
       "      <td>Twitter for iPhone</td>\n",
       "      <td>Democrat “leadership,” despite their denials, ...</td>\n",
       "      <td>2019-12-17 23:48:29+00:00</td>\n",
       "      <td>21740</td>\n",
       "      <td>88682</td>\n",
       "      <td>0.0</td>\n",
       "      <td>1207085185579261952</td>\n",
       "    </tr>\n",
       "  </tbody>\n",
       "</table>\n",
       "</div>"
      ],
      "text/plain": [
       "               source                                               text  \\\n",
       "1  Twitter for iPhone  .@marcthiessen  “Voters say the Democrats are ...   \n",
       "2  Twitter for iPhone  So, if Comey &amp; the top people in the FBI w...   \n",
       "3  Twitter for iPhone  ....They want to Impeach me (I’m not worried!)...   \n",
       "4  Twitter for iPhone  Good marks and reviews on the letter I sent to...   \n",
       "5  Twitter for iPhone  Democrat “leadership,” despite their denials, ...   \n",
       "\n",
       "                 created_at  retweet_count  favorite_count  is_retweet  \\\n",
       "1 2019-12-18 04:17:19+00:00          13001           52715         0.0   \n",
       "2 2019-12-18 04:10:40+00:00          24326           86955         0.0   \n",
       "3 2019-12-18 04:10:40+00:00          17599           67859         0.0   \n",
       "4 2019-12-18 03:54:22+00:00          28355          115543         0.0   \n",
       "5 2019-12-17 23:48:29+00:00          21740           88682         0.0   \n",
       "\n",
       "                id_str  \n",
       "1  1207152841854509056  \n",
       "2  1207151165894471680  \n",
       "3  1207151167173775360  \n",
       "4  1207147066075549696  \n",
       "5  1207085185579261952  "
      ]
     },
     "execution_count": 24,
     "metadata": {},
     "output_type": "execute_result"
    }
   ],
   "source": [
    "own_tweets.head()"
   ]
  },
  {
   "cell_type": "code",
   "execution_count": 25,
   "metadata": {},
   "outputs": [
    {
     "data": {
      "text/html": [
       "<div>\n",
       "<style scoped>\n",
       "    .dataframe tbody tr th:only-of-type {\n",
       "        vertical-align: middle;\n",
       "    }\n",
       "\n",
       "    .dataframe tbody tr th {\n",
       "        vertical-align: top;\n",
       "    }\n",
       "\n",
       "    .dataframe thead th {\n",
       "        text-align: right;\n",
       "    }\n",
       "</style>\n",
       "<table border=\"1\" class=\"dataframe\">\n",
       "  <thead>\n",
       "    <tr style=\"text-align: right;\">\n",
       "      <th></th>\n",
       "      <th>source</th>\n",
       "      <th>text</th>\n",
       "      <th>created_at</th>\n",
       "      <th>retweet_count</th>\n",
       "      <th>favorite_count</th>\n",
       "      <th>id_str</th>\n",
       "    </tr>\n",
       "  </thead>\n",
       "  <tbody>\n",
       "    <tr>\n",
       "      <th>1</th>\n",
       "      <td>Twitter for iPhone</td>\n",
       "      <td>.@marcthiessen  “Voters say the Democrats are ...</td>\n",
       "      <td>2019-12-18 04:17:19+00:00</td>\n",
       "      <td>13001</td>\n",
       "      <td>52715</td>\n",
       "      <td>1207152841854509056</td>\n",
       "    </tr>\n",
       "    <tr>\n",
       "      <th>2</th>\n",
       "      <td>Twitter for iPhone</td>\n",
       "      <td>So, if Comey &amp;amp; the top people in the FBI w...</td>\n",
       "      <td>2019-12-18 04:10:40+00:00</td>\n",
       "      <td>24326</td>\n",
       "      <td>86955</td>\n",
       "      <td>1207151165894471680</td>\n",
       "    </tr>\n",
       "    <tr>\n",
       "      <th>3</th>\n",
       "      <td>Twitter for iPhone</td>\n",
       "      <td>....They want to Impeach me (I’m not worried!)...</td>\n",
       "      <td>2019-12-18 04:10:40+00:00</td>\n",
       "      <td>17599</td>\n",
       "      <td>67859</td>\n",
       "      <td>1207151167173775360</td>\n",
       "    </tr>\n",
       "    <tr>\n",
       "      <th>4</th>\n",
       "      <td>Twitter for iPhone</td>\n",
       "      <td>Good marks and reviews on the letter I sent to...</td>\n",
       "      <td>2019-12-18 03:54:22+00:00</td>\n",
       "      <td>28355</td>\n",
       "      <td>115543</td>\n",
       "      <td>1207147066075549696</td>\n",
       "    </tr>\n",
       "    <tr>\n",
       "      <th>5</th>\n",
       "      <td>Twitter for iPhone</td>\n",
       "      <td>Democrat “leadership,” despite their denials, ...</td>\n",
       "      <td>2019-12-17 23:48:29+00:00</td>\n",
       "      <td>21740</td>\n",
       "      <td>88682</td>\n",
       "      <td>1207085185579261952</td>\n",
       "    </tr>\n",
       "  </tbody>\n",
       "</table>\n",
       "</div>"
      ],
      "text/plain": [
       "               source                                               text  \\\n",
       "1  Twitter for iPhone  .@marcthiessen  “Voters say the Democrats are ...   \n",
       "2  Twitter for iPhone  So, if Comey &amp; the top people in the FBI w...   \n",
       "3  Twitter for iPhone  ....They want to Impeach me (I’m not worried!)...   \n",
       "4  Twitter for iPhone  Good marks and reviews on the letter I sent to...   \n",
       "5  Twitter for iPhone  Democrat “leadership,” despite their denials, ...   \n",
       "\n",
       "                 created_at  retweet_count  favorite_count  \\\n",
       "1 2019-12-18 04:17:19+00:00          13001           52715   \n",
       "2 2019-12-18 04:10:40+00:00          24326           86955   \n",
       "3 2019-12-18 04:10:40+00:00          17599           67859   \n",
       "4 2019-12-18 03:54:22+00:00          28355          115543   \n",
       "5 2019-12-17 23:48:29+00:00          21740           88682   \n",
       "\n",
       "                id_str  \n",
       "1  1207152841854509056  \n",
       "2  1207151165894471680  \n",
       "3  1207151167173775360  \n",
       "4  1207147066075549696  \n",
       "5  1207085185579261952  "
      ]
     },
     "execution_count": 25,
     "metadata": {},
     "output_type": "execute_result"
    }
   ],
   "source": [
    "own_tweets = own_tweets.drop(columns=['is_retweet'])\n",
    "own_tweets.head()"
   ]
  },
  {
   "cell_type": "code",
   "execution_count": 16,
   "metadata": {
    "scrolled": true
   },
   "outputs": [],
   "source": [
    "tweets = Table(\n",
    "   'tweets', meta, \n",
    "    Column('source',String), \n",
    "    Column('text', String), \n",
    "    Column('created_at', DateTime),\n",
    "    Column('retweet_count', Integer),\n",
    "    Column('favorite_count', Integer),\n",
    "    Column('is_retweet', Float),\n",
    "    Column('id_str', Integer, primary_key = True)\n",
    ")\n"
   ]
  },
  {
   "cell_type": "code",
   "execution_count": null,
   "metadata": {},
   "outputs": [],
   "source": []
  },
  {
   "cell_type": "code",
   "execution_count": 17,
   "metadata": {},
   "outputs": [],
   "source": [
    "# # - Don't really need this data duplication.  \n",
    "# # Column is_retweet: 0 (zero) == No, 1 == yes\n",
    "\n",
    "# no_retweets = Table(\n",
    "#    'no_retweets', meta, \n",
    "#     Column('source',String), \n",
    "#     Column('text', String), \n",
    "#     Column('created_at', DateTime),\n",
    "#     Column('retweet_count', Integer),\n",
    "#     Column('favorite_count', Integer),\n",
    "#     Column('is_retweet', Float),\n",
    "#     Column('id_str', Integer, primary_key = True)\n",
    "# )\n"
   ]
  },
  {
   "cell_type": "code",
   "execution_count": 30,
   "metadata": {},
   "outputs": [],
   "source": [
    "#- bind engine, then drop all tables\n",
    "meta.bind = engine\n",
    "meta.drop_all()"
   ]
  },
  {
   "cell_type": "code",
   "execution_count": 31,
   "metadata": {},
   "outputs": [],
   "source": [
    "meta.create_all()"
   ]
  },
  {
   "cell_type": "code",
   "execution_count": 32,
   "metadata": {},
   "outputs": [
    {
     "data": {
      "text/plain": [
       "source                         object\n",
       "text                           object\n",
       "created_at        datetime64[ns, UTC]\n",
       "retweet_count                   int64\n",
       "favorite_count                  int64\n",
       "id_str                          int64\n",
       "dtype: object"
      ]
     },
     "execution_count": 32,
     "metadata": {},
     "output_type": "execute_result"
    }
   ],
   "source": [
    "own_tweets.dtypes"
   ]
  },
  {
   "cell_type": "code",
   "execution_count": null,
   "metadata": {},
   "outputs": [],
   "source": []
  },
  {
   "cell_type": "code",
   "execution_count": 33,
   "metadata": {},
   "outputs": [
    {
     "ename": "IntegrityError",
     "evalue": "(sqlite3.IntegrityError) UNIQUE constraint failed: tweets.id_str\n[SQL: INSERT INTO tweets (source, text, created_at, retweet_count, favorite_count, id_str) VALUES (?, ?, ?, ?, ?, ?)]\n[parameters: (('Twitter for iPhone', '.@marcthiessen  “Voters say the Democrats are trying to take away their votes. Pelosi was right the first time. Impeachment has backfired thoroughly on the Democrats. How can you Impeach the President for going to the courts?”', '2019-12-18 04:17:19.000000', 13001, 52715, 1207152841854509056), ('Twitter for iPhone', 'So, if Comey &amp; the top people in the FBI were dirty cops and cheated on the FISA Court, wouldn’t all of these phony cases have to be overturned or dismissed? They went after me with the Fake Dossier, paid for by Crooked Hillary &amp; the DNC, which they illegally presented to FISA...', '2019-12-18 04:10:40.000000', 24326, 86955, 1207151165894471680), ('Twitter for iPhone', '....They want to Impeach me (I’m not worried!), and yet they were all breaking the law in so many ways. How can they do that and yet impeach a very successful (Economy Plus) President of the United States, who has done nothing wrong? These people are Crazy!', '2019-12-18 04:10:40.000000', 17599, 67859, 1207151167173775360), ('Twitter for iPhone', 'Good marks and reviews on the letter I sent to Pelosi today. She is the worst! No wonder with people like her and Cryin’ Chuck Schumer, D.C. has been such a mess for so long - and that includes the previous administration who (and now we know for sure) SPIED on my campaign.', '2019-12-18 03:54:22.000000', 28355, 115543, 1207147066075549696), ('Twitter for iPhone', 'Democrat “leadership,” despite their denials, are putting tremendous pressure on their members to vote yes on this ridiculous Impeachment. If they vote yes, it will be much easier for Republicans to win in 2020!', '2019-12-17 23:48:29.000000', 21740, 88682, 1207085185579261952), ('Twitter for iPhone', 'Wow! “In a stunning rebuke of the FBI, the FISA court severly chastised the FBI for the FISA abuses brought to light in the recent Inspector General’s Report. There were at least 17 significant errors.” @FoxNews Statement by the Court was long and tough. Means my case was a SCAM!', '2019-12-17 23:14:18.000000', 27134, 95773, 1207076582629761024), ('Twitter for iPhone', 'https://t.co/WzLB5s41m3', '2019-12-17 21:52:30.000000', 20567, 88318, 1207055996687921152), ('Twitter for iPhone', 'Senator Dan Sullivan is doing a great job for the people of Alaska while supporting our #MAGA Agenda. He fights hard everyday to support our Veterans and the Military. Dan is Strong on the #2A and is 100% pro-jobs. I give Dan Sullivan my Complete and Total Endorsement!', '2019-12-17 21:44:23.000000', 12160, 48244, 1207053956142292992)  ... displaying 10 of 23645 total bound parameter sets ...  ('Twitter for Android', 'The Mar-a-Lago Club was amazing tonight. Everybody was there, the biggest and the hottest. Palm Beach is so lucky to have best club in world', '2015-01-01 07:02:39.000000', 27, 77, 550547634218614784), ('Twitter for Android', '\"@flicka__: @realDonaldTrump for president\"', '2015-01-01 06:54:59.000000', 18, 58, 550545703932796928))]\n(Background on this error at: http://sqlalche.me/e/gkpj)",
     "output_type": "error",
     "traceback": [
      "\u001b[1;31m---------------------------------------------------------------------------\u001b[0m",
      "\u001b[1;31mIntegrityError\u001b[0m                            Traceback (most recent call last)",
      "\u001b[1;32m~\\Miniconda3\\envs\\pandas\\lib\\site-packages\\sqlalchemy\\engine\\base.py\u001b[0m in \u001b[0;36m_execute_context\u001b[1;34m(self, dialect, constructor, statement, parameters, *args)\u001b[0m\n\u001b[0;32m   1223\u001b[0m                     self.dialect.do_executemany(\n\u001b[1;32m-> 1224\u001b[1;33m                         \u001b[0mcursor\u001b[0m\u001b[1;33m,\u001b[0m \u001b[0mstatement\u001b[0m\u001b[1;33m,\u001b[0m \u001b[0mparameters\u001b[0m\u001b[1;33m,\u001b[0m \u001b[0mcontext\u001b[0m\u001b[1;33m\u001b[0m\u001b[1;33m\u001b[0m\u001b[0m\n\u001b[0m\u001b[0;32m   1225\u001b[0m                     )\n",
      "\u001b[1;32m~\\Miniconda3\\envs\\pandas\\lib\\site-packages\\sqlalchemy\\engine\\default.py\u001b[0m in \u001b[0;36mdo_executemany\u001b[1;34m(self, cursor, statement, parameters, context)\u001b[0m\n\u001b[0;32m    548\u001b[0m     \u001b[1;32mdef\u001b[0m \u001b[0mdo_executemany\u001b[0m\u001b[1;33m(\u001b[0m\u001b[0mself\u001b[0m\u001b[1;33m,\u001b[0m \u001b[0mcursor\u001b[0m\u001b[1;33m,\u001b[0m \u001b[0mstatement\u001b[0m\u001b[1;33m,\u001b[0m \u001b[0mparameters\u001b[0m\u001b[1;33m,\u001b[0m \u001b[0mcontext\u001b[0m\u001b[1;33m=\u001b[0m\u001b[1;32mNone\u001b[0m\u001b[1;33m)\u001b[0m\u001b[1;33m:\u001b[0m\u001b[1;33m\u001b[0m\u001b[1;33m\u001b[0m\u001b[0m\n\u001b[1;32m--> 549\u001b[1;33m         \u001b[0mcursor\u001b[0m\u001b[1;33m.\u001b[0m\u001b[0mexecutemany\u001b[0m\u001b[1;33m(\u001b[0m\u001b[0mstatement\u001b[0m\u001b[1;33m,\u001b[0m \u001b[0mparameters\u001b[0m\u001b[1;33m)\u001b[0m\u001b[1;33m\u001b[0m\u001b[1;33m\u001b[0m\u001b[0m\n\u001b[0m\u001b[0;32m    550\u001b[0m \u001b[1;33m\u001b[0m\u001b[0m\n",
      "\u001b[1;31mIntegrityError\u001b[0m: UNIQUE constraint failed: tweets.id_str",
      "\nThe above exception was the direct cause of the following exception:\n",
      "\u001b[1;31mIntegrityError\u001b[0m                            Traceback (most recent call last)",
      "\u001b[1;32m<ipython-input-33-3e41dd6b6e11>\u001b[0m in \u001b[0;36m<module>\u001b[1;34m\u001b[0m\n\u001b[1;32m----> 1\u001b[1;33m \u001b[0mown_tweets\u001b[0m\u001b[1;33m.\u001b[0m\u001b[0mto_sql\u001b[0m\u001b[1;33m(\u001b[0m\u001b[1;34m'tweets'\u001b[0m\u001b[1;33m,\u001b[0m \u001b[0mconn\u001b[0m\u001b[1;33m,\u001b[0m \u001b[0mif_exists\u001b[0m\u001b[1;33m=\u001b[0m\u001b[1;34m'append'\u001b[0m\u001b[1;33m,\u001b[0m \u001b[0mindex\u001b[0m\u001b[1;33m=\u001b[0m\u001b[1;32mFalse\u001b[0m\u001b[1;33m,\u001b[0m \u001b[0mindex_label\u001b[0m\u001b[1;33m=\u001b[0m\u001b[1;34m\"id_str\"\u001b[0m\u001b[1;33m)\u001b[0m\u001b[1;33m\u001b[0m\u001b[1;33m\u001b[0m\u001b[0m\n\u001b[0m",
      "\u001b[1;32m~\\Miniconda3\\envs\\pandas\\lib\\site-packages\\pandas\\core\\generic.py\u001b[0m in \u001b[0;36mto_sql\u001b[1;34m(self, name, con, schema, if_exists, index, index_label, chunksize, dtype, method)\u001b[0m\n\u001b[0;32m   2711\u001b[0m             \u001b[0mchunksize\u001b[0m\u001b[1;33m=\u001b[0m\u001b[0mchunksize\u001b[0m\u001b[1;33m,\u001b[0m\u001b[1;33m\u001b[0m\u001b[1;33m\u001b[0m\u001b[0m\n\u001b[0;32m   2712\u001b[0m             \u001b[0mdtype\u001b[0m\u001b[1;33m=\u001b[0m\u001b[0mdtype\u001b[0m\u001b[1;33m,\u001b[0m\u001b[1;33m\u001b[0m\u001b[1;33m\u001b[0m\u001b[0m\n\u001b[1;32m-> 2713\u001b[1;33m             \u001b[0mmethod\u001b[0m\u001b[1;33m=\u001b[0m\u001b[0mmethod\u001b[0m\u001b[1;33m,\u001b[0m\u001b[1;33m\u001b[0m\u001b[1;33m\u001b[0m\u001b[0m\n\u001b[0m\u001b[0;32m   2714\u001b[0m         )\n\u001b[0;32m   2715\u001b[0m \u001b[1;33m\u001b[0m\u001b[0m\n",
      "\u001b[1;32m~\\Miniconda3\\envs\\pandas\\lib\\site-packages\\pandas\\io\\sql.py\u001b[0m in \u001b[0;36mto_sql\u001b[1;34m(frame, name, con, schema, if_exists, index, index_label, chunksize, dtype, method)\u001b[0m\n\u001b[0;32m    516\u001b[0m         \u001b[0mchunksize\u001b[0m\u001b[1;33m=\u001b[0m\u001b[0mchunksize\u001b[0m\u001b[1;33m,\u001b[0m\u001b[1;33m\u001b[0m\u001b[1;33m\u001b[0m\u001b[0m\n\u001b[0;32m    517\u001b[0m         \u001b[0mdtype\u001b[0m\u001b[1;33m=\u001b[0m\u001b[0mdtype\u001b[0m\u001b[1;33m,\u001b[0m\u001b[1;33m\u001b[0m\u001b[1;33m\u001b[0m\u001b[0m\n\u001b[1;32m--> 518\u001b[1;33m         \u001b[0mmethod\u001b[0m\u001b[1;33m=\u001b[0m\u001b[0mmethod\u001b[0m\u001b[1;33m,\u001b[0m\u001b[1;33m\u001b[0m\u001b[1;33m\u001b[0m\u001b[0m\n\u001b[0m\u001b[0;32m    519\u001b[0m     )\n\u001b[0;32m    520\u001b[0m \u001b[1;33m\u001b[0m\u001b[0m\n",
      "\u001b[1;32m~\\Miniconda3\\envs\\pandas\\lib\\site-packages\\pandas\\io\\sql.py\u001b[0m in \u001b[0;36mto_sql\u001b[1;34m(self, frame, name, if_exists, index, index_label, schema, chunksize, dtype, method)\u001b[0m\n\u001b[0;32m   1318\u001b[0m         )\n\u001b[0;32m   1319\u001b[0m         \u001b[0mtable\u001b[0m\u001b[1;33m.\u001b[0m\u001b[0mcreate\u001b[0m\u001b[1;33m(\u001b[0m\u001b[1;33m)\u001b[0m\u001b[1;33m\u001b[0m\u001b[1;33m\u001b[0m\u001b[0m\n\u001b[1;32m-> 1320\u001b[1;33m         \u001b[0mtable\u001b[0m\u001b[1;33m.\u001b[0m\u001b[0minsert\u001b[0m\u001b[1;33m(\u001b[0m\u001b[0mchunksize\u001b[0m\u001b[1;33m,\u001b[0m \u001b[0mmethod\u001b[0m\u001b[1;33m=\u001b[0m\u001b[0mmethod\u001b[0m\u001b[1;33m)\u001b[0m\u001b[1;33m\u001b[0m\u001b[1;33m\u001b[0m\u001b[0m\n\u001b[0m\u001b[0;32m   1321\u001b[0m         \u001b[1;32mif\u001b[0m \u001b[1;32mnot\u001b[0m \u001b[0mname\u001b[0m\u001b[1;33m.\u001b[0m\u001b[0misdigit\u001b[0m\u001b[1;33m(\u001b[0m\u001b[1;33m)\u001b[0m \u001b[1;32mand\u001b[0m \u001b[1;32mnot\u001b[0m \u001b[0mname\u001b[0m\u001b[1;33m.\u001b[0m\u001b[0mislower\u001b[0m\u001b[1;33m(\u001b[0m\u001b[1;33m)\u001b[0m\u001b[1;33m:\u001b[0m\u001b[1;33m\u001b[0m\u001b[1;33m\u001b[0m\u001b[0m\n\u001b[0;32m   1322\u001b[0m             \u001b[1;31m# check for potentially case sensitivity issues (GH7815)\u001b[0m\u001b[1;33m\u001b[0m\u001b[1;33m\u001b[0m\u001b[1;33m\u001b[0m\u001b[0m\n",
      "\u001b[1;32m~\\Miniconda3\\envs\\pandas\\lib\\site-packages\\pandas\\io\\sql.py\u001b[0m in \u001b[0;36minsert\u001b[1;34m(self, chunksize, method)\u001b[0m\n\u001b[0;32m    754\u001b[0m \u001b[1;33m\u001b[0m\u001b[0m\n\u001b[0;32m    755\u001b[0m                 \u001b[0mchunk_iter\u001b[0m \u001b[1;33m=\u001b[0m \u001b[0mzip\u001b[0m\u001b[1;33m(\u001b[0m\u001b[1;33m*\u001b[0m\u001b[1;33m[\u001b[0m\u001b[0marr\u001b[0m\u001b[1;33m[\u001b[0m\u001b[0mstart_i\u001b[0m\u001b[1;33m:\u001b[0m\u001b[0mend_i\u001b[0m\u001b[1;33m]\u001b[0m \u001b[1;32mfor\u001b[0m \u001b[0marr\u001b[0m \u001b[1;32min\u001b[0m \u001b[0mdata_list\u001b[0m\u001b[1;33m]\u001b[0m\u001b[1;33m)\u001b[0m\u001b[1;33m\u001b[0m\u001b[1;33m\u001b[0m\u001b[0m\n\u001b[1;32m--> 756\u001b[1;33m                 \u001b[0mexec_insert\u001b[0m\u001b[1;33m(\u001b[0m\u001b[0mconn\u001b[0m\u001b[1;33m,\u001b[0m \u001b[0mkeys\u001b[0m\u001b[1;33m,\u001b[0m \u001b[0mchunk_iter\u001b[0m\u001b[1;33m)\u001b[0m\u001b[1;33m\u001b[0m\u001b[1;33m\u001b[0m\u001b[0m\n\u001b[0m\u001b[0;32m    757\u001b[0m \u001b[1;33m\u001b[0m\u001b[0m\n\u001b[0;32m    758\u001b[0m     def _query_iterator(\n",
      "\u001b[1;32m~\\Miniconda3\\envs\\pandas\\lib\\site-packages\\pandas\\io\\sql.py\u001b[0m in \u001b[0;36m_execute_insert\u001b[1;34m(self, conn, keys, data_iter)\u001b[0m\n\u001b[0;32m    668\u001b[0m         \"\"\"\n\u001b[0;32m    669\u001b[0m         \u001b[0mdata\u001b[0m \u001b[1;33m=\u001b[0m \u001b[1;33m[\u001b[0m\u001b[0mdict\u001b[0m\u001b[1;33m(\u001b[0m\u001b[0mzip\u001b[0m\u001b[1;33m(\u001b[0m\u001b[0mkeys\u001b[0m\u001b[1;33m,\u001b[0m \u001b[0mrow\u001b[0m\u001b[1;33m)\u001b[0m\u001b[1;33m)\u001b[0m \u001b[1;32mfor\u001b[0m \u001b[0mrow\u001b[0m \u001b[1;32min\u001b[0m \u001b[0mdata_iter\u001b[0m\u001b[1;33m]\u001b[0m\u001b[1;33m\u001b[0m\u001b[1;33m\u001b[0m\u001b[0m\n\u001b[1;32m--> 670\u001b[1;33m         \u001b[0mconn\u001b[0m\u001b[1;33m.\u001b[0m\u001b[0mexecute\u001b[0m\u001b[1;33m(\u001b[0m\u001b[0mself\u001b[0m\u001b[1;33m.\u001b[0m\u001b[0mtable\u001b[0m\u001b[1;33m.\u001b[0m\u001b[0minsert\u001b[0m\u001b[1;33m(\u001b[0m\u001b[1;33m)\u001b[0m\u001b[1;33m,\u001b[0m \u001b[0mdata\u001b[0m\u001b[1;33m)\u001b[0m\u001b[1;33m\u001b[0m\u001b[1;33m\u001b[0m\u001b[0m\n\u001b[0m\u001b[0;32m    671\u001b[0m \u001b[1;33m\u001b[0m\u001b[0m\n\u001b[0;32m    672\u001b[0m     \u001b[1;32mdef\u001b[0m \u001b[0m_execute_insert_multi\u001b[0m\u001b[1;33m(\u001b[0m\u001b[0mself\u001b[0m\u001b[1;33m,\u001b[0m \u001b[0mconn\u001b[0m\u001b[1;33m,\u001b[0m \u001b[0mkeys\u001b[0m\u001b[1;33m,\u001b[0m \u001b[0mdata_iter\u001b[0m\u001b[1;33m)\u001b[0m\u001b[1;33m:\u001b[0m\u001b[1;33m\u001b[0m\u001b[1;33m\u001b[0m\u001b[0m\n",
      "\u001b[1;32m~\\Miniconda3\\envs\\pandas\\lib\\site-packages\\sqlalchemy\\engine\\base.py\u001b[0m in \u001b[0;36mexecute\u001b[1;34m(self, object_, *multiparams, **params)\u001b[0m\n\u001b[0;32m    986\u001b[0m             \u001b[1;32mraise\u001b[0m \u001b[0mexc\u001b[0m\u001b[1;33m.\u001b[0m\u001b[0mObjectNotExecutableError\u001b[0m\u001b[1;33m(\u001b[0m\u001b[0mobject_\u001b[0m\u001b[1;33m)\u001b[0m\u001b[1;33m\u001b[0m\u001b[1;33m\u001b[0m\u001b[0m\n\u001b[0;32m    987\u001b[0m         \u001b[1;32melse\u001b[0m\u001b[1;33m:\u001b[0m\u001b[1;33m\u001b[0m\u001b[1;33m\u001b[0m\u001b[0m\n\u001b[1;32m--> 988\u001b[1;33m             \u001b[1;32mreturn\u001b[0m \u001b[0mmeth\u001b[0m\u001b[1;33m(\u001b[0m\u001b[0mself\u001b[0m\u001b[1;33m,\u001b[0m \u001b[0mmultiparams\u001b[0m\u001b[1;33m,\u001b[0m \u001b[0mparams\u001b[0m\u001b[1;33m)\u001b[0m\u001b[1;33m\u001b[0m\u001b[1;33m\u001b[0m\u001b[0m\n\u001b[0m\u001b[0;32m    989\u001b[0m \u001b[1;33m\u001b[0m\u001b[0m\n\u001b[0;32m    990\u001b[0m     \u001b[1;32mdef\u001b[0m \u001b[0m_execute_function\u001b[0m\u001b[1;33m(\u001b[0m\u001b[0mself\u001b[0m\u001b[1;33m,\u001b[0m \u001b[0mfunc\u001b[0m\u001b[1;33m,\u001b[0m \u001b[0mmultiparams\u001b[0m\u001b[1;33m,\u001b[0m \u001b[0mparams\u001b[0m\u001b[1;33m)\u001b[0m\u001b[1;33m:\u001b[0m\u001b[1;33m\u001b[0m\u001b[1;33m\u001b[0m\u001b[0m\n",
      "\u001b[1;32m~\\Miniconda3\\envs\\pandas\\lib\\site-packages\\sqlalchemy\\sql\\elements.py\u001b[0m in \u001b[0;36m_execute_on_connection\u001b[1;34m(self, connection, multiparams, params)\u001b[0m\n\u001b[0;32m    285\u001b[0m     \u001b[1;32mdef\u001b[0m \u001b[0m_execute_on_connection\u001b[0m\u001b[1;33m(\u001b[0m\u001b[0mself\u001b[0m\u001b[1;33m,\u001b[0m \u001b[0mconnection\u001b[0m\u001b[1;33m,\u001b[0m \u001b[0mmultiparams\u001b[0m\u001b[1;33m,\u001b[0m \u001b[0mparams\u001b[0m\u001b[1;33m)\u001b[0m\u001b[1;33m:\u001b[0m\u001b[1;33m\u001b[0m\u001b[1;33m\u001b[0m\u001b[0m\n\u001b[0;32m    286\u001b[0m         \u001b[1;32mif\u001b[0m \u001b[0mself\u001b[0m\u001b[1;33m.\u001b[0m\u001b[0msupports_execution\u001b[0m\u001b[1;33m:\u001b[0m\u001b[1;33m\u001b[0m\u001b[1;33m\u001b[0m\u001b[0m\n\u001b[1;32m--> 287\u001b[1;33m             \u001b[1;32mreturn\u001b[0m \u001b[0mconnection\u001b[0m\u001b[1;33m.\u001b[0m\u001b[0m_execute_clauseelement\u001b[0m\u001b[1;33m(\u001b[0m\u001b[0mself\u001b[0m\u001b[1;33m,\u001b[0m \u001b[0mmultiparams\u001b[0m\u001b[1;33m,\u001b[0m \u001b[0mparams\u001b[0m\u001b[1;33m)\u001b[0m\u001b[1;33m\u001b[0m\u001b[1;33m\u001b[0m\u001b[0m\n\u001b[0m\u001b[0;32m    288\u001b[0m         \u001b[1;32melse\u001b[0m\u001b[1;33m:\u001b[0m\u001b[1;33m\u001b[0m\u001b[1;33m\u001b[0m\u001b[0m\n\u001b[0;32m    289\u001b[0m             \u001b[1;32mraise\u001b[0m \u001b[0mexc\u001b[0m\u001b[1;33m.\u001b[0m\u001b[0mObjectNotExecutableError\u001b[0m\u001b[1;33m(\u001b[0m\u001b[0mself\u001b[0m\u001b[1;33m)\u001b[0m\u001b[1;33m\u001b[0m\u001b[1;33m\u001b[0m\u001b[0m\n",
      "\u001b[1;32m~\\Miniconda3\\envs\\pandas\\lib\\site-packages\\sqlalchemy\\engine\\base.py\u001b[0m in \u001b[0;36m_execute_clauseelement\u001b[1;34m(self, elem, multiparams, params)\u001b[0m\n\u001b[0;32m   1105\u001b[0m             \u001b[0mdistilled_params\u001b[0m\u001b[1;33m,\u001b[0m\u001b[1;33m\u001b[0m\u001b[1;33m\u001b[0m\u001b[0m\n\u001b[0;32m   1106\u001b[0m             \u001b[0mcompiled_sql\u001b[0m\u001b[1;33m,\u001b[0m\u001b[1;33m\u001b[0m\u001b[1;33m\u001b[0m\u001b[0m\n\u001b[1;32m-> 1107\u001b[1;33m             \u001b[0mdistilled_params\u001b[0m\u001b[1;33m,\u001b[0m\u001b[1;33m\u001b[0m\u001b[1;33m\u001b[0m\u001b[0m\n\u001b[0m\u001b[0;32m   1108\u001b[0m         )\n\u001b[0;32m   1109\u001b[0m         \u001b[1;32mif\u001b[0m \u001b[0mself\u001b[0m\u001b[1;33m.\u001b[0m\u001b[0m_has_events\u001b[0m \u001b[1;32mor\u001b[0m \u001b[0mself\u001b[0m\u001b[1;33m.\u001b[0m\u001b[0mengine\u001b[0m\u001b[1;33m.\u001b[0m\u001b[0m_has_events\u001b[0m\u001b[1;33m:\u001b[0m\u001b[1;33m\u001b[0m\u001b[1;33m\u001b[0m\u001b[0m\n",
      "\u001b[1;32m~\\Miniconda3\\envs\\pandas\\lib\\site-packages\\sqlalchemy\\engine\\base.py\u001b[0m in \u001b[0;36m_execute_context\u001b[1;34m(self, dialect, constructor, statement, parameters, *args)\u001b[0m\n\u001b[0;32m   1246\u001b[0m         \u001b[1;32mexcept\u001b[0m \u001b[0mBaseException\u001b[0m \u001b[1;32mas\u001b[0m \u001b[0me\u001b[0m\u001b[1;33m:\u001b[0m\u001b[1;33m\u001b[0m\u001b[1;33m\u001b[0m\u001b[0m\n\u001b[0;32m   1247\u001b[0m             self._handle_dbapi_exception(\n\u001b[1;32m-> 1248\u001b[1;33m                 \u001b[0me\u001b[0m\u001b[1;33m,\u001b[0m \u001b[0mstatement\u001b[0m\u001b[1;33m,\u001b[0m \u001b[0mparameters\u001b[0m\u001b[1;33m,\u001b[0m \u001b[0mcursor\u001b[0m\u001b[1;33m,\u001b[0m \u001b[0mcontext\u001b[0m\u001b[1;33m\u001b[0m\u001b[1;33m\u001b[0m\u001b[0m\n\u001b[0m\u001b[0;32m   1249\u001b[0m             )\n\u001b[0;32m   1250\u001b[0m \u001b[1;33m\u001b[0m\u001b[0m\n",
      "\u001b[1;32m~\\Miniconda3\\envs\\pandas\\lib\\site-packages\\sqlalchemy\\engine\\base.py\u001b[0m in \u001b[0;36m_handle_dbapi_exception\u001b[1;34m(self, e, statement, parameters, cursor, context)\u001b[0m\n\u001b[0;32m   1464\u001b[0m                 \u001b[0mutil\u001b[0m\u001b[1;33m.\u001b[0m\u001b[0mraise_from_cause\u001b[0m\u001b[1;33m(\u001b[0m\u001b[0mnewraise\u001b[0m\u001b[1;33m,\u001b[0m \u001b[0mexc_info\u001b[0m\u001b[1;33m)\u001b[0m\u001b[1;33m\u001b[0m\u001b[1;33m\u001b[0m\u001b[0m\n\u001b[0;32m   1465\u001b[0m             \u001b[1;32melif\u001b[0m \u001b[0mshould_wrap\u001b[0m\u001b[1;33m:\u001b[0m\u001b[1;33m\u001b[0m\u001b[1;33m\u001b[0m\u001b[0m\n\u001b[1;32m-> 1466\u001b[1;33m                 \u001b[0mutil\u001b[0m\u001b[1;33m.\u001b[0m\u001b[0mraise_from_cause\u001b[0m\u001b[1;33m(\u001b[0m\u001b[0msqlalchemy_exception\u001b[0m\u001b[1;33m,\u001b[0m \u001b[0mexc_info\u001b[0m\u001b[1;33m)\u001b[0m\u001b[1;33m\u001b[0m\u001b[1;33m\u001b[0m\u001b[0m\n\u001b[0m\u001b[0;32m   1467\u001b[0m             \u001b[1;32melse\u001b[0m\u001b[1;33m:\u001b[0m\u001b[1;33m\u001b[0m\u001b[1;33m\u001b[0m\u001b[0m\n\u001b[0;32m   1468\u001b[0m                 \u001b[0mutil\u001b[0m\u001b[1;33m.\u001b[0m\u001b[0mreraise\u001b[0m\u001b[1;33m(\u001b[0m\u001b[1;33m*\u001b[0m\u001b[0mexc_info\u001b[0m\u001b[1;33m)\u001b[0m\u001b[1;33m\u001b[0m\u001b[1;33m\u001b[0m\u001b[0m\n",
      "\u001b[1;32m~\\Miniconda3\\envs\\pandas\\lib\\site-packages\\sqlalchemy\\util\\compat.py\u001b[0m in \u001b[0;36mraise_from_cause\u001b[1;34m(exception, exc_info)\u001b[0m\n\u001b[0;32m    396\u001b[0m     \u001b[0mexc_type\u001b[0m\u001b[1;33m,\u001b[0m \u001b[0mexc_value\u001b[0m\u001b[1;33m,\u001b[0m \u001b[0mexc_tb\u001b[0m \u001b[1;33m=\u001b[0m \u001b[0mexc_info\u001b[0m\u001b[1;33m\u001b[0m\u001b[1;33m\u001b[0m\u001b[0m\n\u001b[0;32m    397\u001b[0m     \u001b[0mcause\u001b[0m \u001b[1;33m=\u001b[0m \u001b[0mexc_value\u001b[0m \u001b[1;32mif\u001b[0m \u001b[0mexc_value\u001b[0m \u001b[1;32mis\u001b[0m \u001b[1;32mnot\u001b[0m \u001b[0mexception\u001b[0m \u001b[1;32melse\u001b[0m \u001b[1;32mNone\u001b[0m\u001b[1;33m\u001b[0m\u001b[1;33m\u001b[0m\u001b[0m\n\u001b[1;32m--> 398\u001b[1;33m     \u001b[0mreraise\u001b[0m\u001b[1;33m(\u001b[0m\u001b[0mtype\u001b[0m\u001b[1;33m(\u001b[0m\u001b[0mexception\u001b[0m\u001b[1;33m)\u001b[0m\u001b[1;33m,\u001b[0m \u001b[0mexception\u001b[0m\u001b[1;33m,\u001b[0m \u001b[0mtb\u001b[0m\u001b[1;33m=\u001b[0m\u001b[0mexc_tb\u001b[0m\u001b[1;33m,\u001b[0m \u001b[0mcause\u001b[0m\u001b[1;33m=\u001b[0m\u001b[0mcause\u001b[0m\u001b[1;33m)\u001b[0m\u001b[1;33m\u001b[0m\u001b[1;33m\u001b[0m\u001b[0m\n\u001b[0m\u001b[0;32m    399\u001b[0m \u001b[1;33m\u001b[0m\u001b[0m\n\u001b[0;32m    400\u001b[0m \u001b[1;33m\u001b[0m\u001b[0m\n",
      "\u001b[1;32m~\\Miniconda3\\envs\\pandas\\lib\\site-packages\\sqlalchemy\\util\\compat.py\u001b[0m in \u001b[0;36mreraise\u001b[1;34m(tp, value, tb, cause)\u001b[0m\n\u001b[0;32m    150\u001b[0m             \u001b[0mvalue\u001b[0m\u001b[1;33m.\u001b[0m\u001b[0m__cause__\u001b[0m \u001b[1;33m=\u001b[0m \u001b[0mcause\u001b[0m\u001b[1;33m\u001b[0m\u001b[1;33m\u001b[0m\u001b[0m\n\u001b[0;32m    151\u001b[0m         \u001b[1;32mif\u001b[0m \u001b[0mvalue\u001b[0m\u001b[1;33m.\u001b[0m\u001b[0m__traceback__\u001b[0m \u001b[1;32mis\u001b[0m \u001b[1;32mnot\u001b[0m \u001b[0mtb\u001b[0m\u001b[1;33m:\u001b[0m\u001b[1;33m\u001b[0m\u001b[1;33m\u001b[0m\u001b[0m\n\u001b[1;32m--> 152\u001b[1;33m             \u001b[1;32mraise\u001b[0m \u001b[0mvalue\u001b[0m\u001b[1;33m.\u001b[0m\u001b[0mwith_traceback\u001b[0m\u001b[1;33m(\u001b[0m\u001b[0mtb\u001b[0m\u001b[1;33m)\u001b[0m\u001b[1;33m\u001b[0m\u001b[1;33m\u001b[0m\u001b[0m\n\u001b[0m\u001b[0;32m    153\u001b[0m         \u001b[1;32mraise\u001b[0m \u001b[0mvalue\u001b[0m\u001b[1;33m\u001b[0m\u001b[1;33m\u001b[0m\u001b[0m\n\u001b[0;32m    154\u001b[0m \u001b[1;33m\u001b[0m\u001b[0m\n",
      "\u001b[1;32m~\\Miniconda3\\envs\\pandas\\lib\\site-packages\\sqlalchemy\\engine\\base.py\u001b[0m in \u001b[0;36m_execute_context\u001b[1;34m(self, dialect, constructor, statement, parameters, *args)\u001b[0m\n\u001b[0;32m   1222\u001b[0m                 \u001b[1;32mif\u001b[0m \u001b[1;32mnot\u001b[0m \u001b[0mevt_handled\u001b[0m\u001b[1;33m:\u001b[0m\u001b[1;33m\u001b[0m\u001b[1;33m\u001b[0m\u001b[0m\n\u001b[0;32m   1223\u001b[0m                     self.dialect.do_executemany(\n\u001b[1;32m-> 1224\u001b[1;33m                         \u001b[0mcursor\u001b[0m\u001b[1;33m,\u001b[0m \u001b[0mstatement\u001b[0m\u001b[1;33m,\u001b[0m \u001b[0mparameters\u001b[0m\u001b[1;33m,\u001b[0m \u001b[0mcontext\u001b[0m\u001b[1;33m\u001b[0m\u001b[1;33m\u001b[0m\u001b[0m\n\u001b[0m\u001b[0;32m   1225\u001b[0m                     )\n\u001b[0;32m   1226\u001b[0m             \u001b[1;32melif\u001b[0m \u001b[1;32mnot\u001b[0m \u001b[0mparameters\u001b[0m \u001b[1;32mand\u001b[0m \u001b[0mcontext\u001b[0m\u001b[1;33m.\u001b[0m\u001b[0mno_parameters\u001b[0m\u001b[1;33m:\u001b[0m\u001b[1;33m\u001b[0m\u001b[1;33m\u001b[0m\u001b[0m\n",
      "\u001b[1;32m~\\Miniconda3\\envs\\pandas\\lib\\site-packages\\sqlalchemy\\engine\\default.py\u001b[0m in \u001b[0;36mdo_executemany\u001b[1;34m(self, cursor, statement, parameters, context)\u001b[0m\n\u001b[0;32m    547\u001b[0m \u001b[1;33m\u001b[0m\u001b[0m\n\u001b[0;32m    548\u001b[0m     \u001b[1;32mdef\u001b[0m \u001b[0mdo_executemany\u001b[0m\u001b[1;33m(\u001b[0m\u001b[0mself\u001b[0m\u001b[1;33m,\u001b[0m \u001b[0mcursor\u001b[0m\u001b[1;33m,\u001b[0m \u001b[0mstatement\u001b[0m\u001b[1;33m,\u001b[0m \u001b[0mparameters\u001b[0m\u001b[1;33m,\u001b[0m \u001b[0mcontext\u001b[0m\u001b[1;33m=\u001b[0m\u001b[1;32mNone\u001b[0m\u001b[1;33m)\u001b[0m\u001b[1;33m:\u001b[0m\u001b[1;33m\u001b[0m\u001b[1;33m\u001b[0m\u001b[0m\n\u001b[1;32m--> 549\u001b[1;33m         \u001b[0mcursor\u001b[0m\u001b[1;33m.\u001b[0m\u001b[0mexecutemany\u001b[0m\u001b[1;33m(\u001b[0m\u001b[0mstatement\u001b[0m\u001b[1;33m,\u001b[0m \u001b[0mparameters\u001b[0m\u001b[1;33m)\u001b[0m\u001b[1;33m\u001b[0m\u001b[1;33m\u001b[0m\u001b[0m\n\u001b[0m\u001b[0;32m    550\u001b[0m \u001b[1;33m\u001b[0m\u001b[0m\n\u001b[0;32m    551\u001b[0m     \u001b[1;32mdef\u001b[0m \u001b[0mdo_execute\u001b[0m\u001b[1;33m(\u001b[0m\u001b[0mself\u001b[0m\u001b[1;33m,\u001b[0m \u001b[0mcursor\u001b[0m\u001b[1;33m,\u001b[0m \u001b[0mstatement\u001b[0m\u001b[1;33m,\u001b[0m \u001b[0mparameters\u001b[0m\u001b[1;33m,\u001b[0m \u001b[0mcontext\u001b[0m\u001b[1;33m=\u001b[0m\u001b[1;32mNone\u001b[0m\u001b[1;33m)\u001b[0m\u001b[1;33m:\u001b[0m\u001b[1;33m\u001b[0m\u001b[1;33m\u001b[0m\u001b[0m\n",
      "\u001b[1;31mIntegrityError\u001b[0m: (sqlite3.IntegrityError) UNIQUE constraint failed: tweets.id_str\n[SQL: INSERT INTO tweets (source, text, created_at, retweet_count, favorite_count, id_str) VALUES (?, ?, ?, ?, ?, ?)]\n[parameters: (('Twitter for iPhone', '.@marcthiessen  “Voters say the Democrats are trying to take away their votes. Pelosi was right the first time. Impeachment has backfired thoroughly on the Democrats. How can you Impeach the President for going to the courts?”', '2019-12-18 04:17:19.000000', 13001, 52715, 1207152841854509056), ('Twitter for iPhone', 'So, if Comey &amp; the top people in the FBI were dirty cops and cheated on the FISA Court, wouldn’t all of these phony cases have to be overturned or dismissed? They went after me with the Fake Dossier, paid for by Crooked Hillary &amp; the DNC, which they illegally presented to FISA...', '2019-12-18 04:10:40.000000', 24326, 86955, 1207151165894471680), ('Twitter for iPhone', '....They want to Impeach me (I’m not worried!), and yet they were all breaking the law in so many ways. How can they do that and yet impeach a very successful (Economy Plus) President of the United States, who has done nothing wrong? These people are Crazy!', '2019-12-18 04:10:40.000000', 17599, 67859, 1207151167173775360), ('Twitter for iPhone', 'Good marks and reviews on the letter I sent to Pelosi today. She is the worst! No wonder with people like her and Cryin’ Chuck Schumer, D.C. has been such a mess for so long - and that includes the previous administration who (and now we know for sure) SPIED on my campaign.', '2019-12-18 03:54:22.000000', 28355, 115543, 1207147066075549696), ('Twitter for iPhone', 'Democrat “leadership,” despite their denials, are putting tremendous pressure on their members to vote yes on this ridiculous Impeachment. If they vote yes, it will be much easier for Republicans to win in 2020!', '2019-12-17 23:48:29.000000', 21740, 88682, 1207085185579261952), ('Twitter for iPhone', 'Wow! “In a stunning rebuke of the FBI, the FISA court severly chastised the FBI for the FISA abuses brought to light in the recent Inspector General’s Report. There were at least 17 significant errors.” @FoxNews Statement by the Court was long and tough. Means my case was a SCAM!', '2019-12-17 23:14:18.000000', 27134, 95773, 1207076582629761024), ('Twitter for iPhone', 'https://t.co/WzLB5s41m3', '2019-12-17 21:52:30.000000', 20567, 88318, 1207055996687921152), ('Twitter for iPhone', 'Senator Dan Sullivan is doing a great job for the people of Alaska while supporting our #MAGA Agenda. He fights hard everyday to support our Veterans and the Military. Dan is Strong on the #2A and is 100% pro-jobs. I give Dan Sullivan my Complete and Total Endorsement!', '2019-12-17 21:44:23.000000', 12160, 48244, 1207053956142292992)  ... displaying 10 of 23645 total bound parameter sets ...  ('Twitter for Android', 'The Mar-a-Lago Club was amazing tonight. Everybody was there, the biggest and the hottest. Palm Beach is so lucky to have best club in world', '2015-01-01 07:02:39.000000', 27, 77, 550547634218614784), ('Twitter for Android', '\"@flicka__: @realDonaldTrump for president\"', '2015-01-01 06:54:59.000000', 18, 58, 550545703932796928))]\n(Background on this error at: http://sqlalche.me/e/gkpj)"
     ]
    }
   ],
   "source": [
    "own_tweets.to_sql('tweets', conn, if_exists='append', index=False, index_label=\"id_str\")"
   ]
  },
  {
   "cell_type": "markdown",
   "metadata": {},
   "source": [
    "# Load no retweets data"
   ]
  },
  {
   "cell_type": "markdown",
   "metadata": {},
   "source": [
    "No need really.  Retweets appear to be marked as 1 in is_retweet column."
   ]
  },
  {
   "cell_type": "code",
   "execution_count": null,
   "metadata": {},
   "outputs": [],
   "source": [
    "# filename = \"../no_retweets_20150101_20191218.json\"\n",
    "# retweets_df = pd.read_json(filename, orient='columns', encoding='utf-8')\n"
   ]
  },
  {
   "cell_type": "code",
   "execution_count": null,
   "metadata": {},
   "outputs": [],
   "source": [
    "# retweets_df.shape"
   ]
  },
  {
   "cell_type": "code",
   "execution_count": null,
   "metadata": {},
   "outputs": [],
   "source": [
    "# # Make sure the table is clean...\n",
    "# engine.execute(\"delete from no_retweets\")"
   ]
  },
  {
   "cell_type": "code",
   "execution_count": null,
   "metadata": {},
   "outputs": [],
   "source": [
    "# retweets_df.to_sql('no_retweets', conn, if_exists='append', index=False, index_label=\"id_str\")"
   ]
  },
  {
   "cell_type": "code",
   "execution_count": null,
   "metadata": {},
   "outputs": [],
   "source": [
    "# Compact/compress db after working on it.\n",
    "engine.execute(\"VACUUM\")"
   ]
  },
  {
   "cell_type": "code",
   "execution_count": 22,
   "metadata": {},
   "outputs": [
    {
     "data": {
      "text/plain": [
       "<bound method Connection.close of <sqlalchemy.engine.base.Connection object at 0x000002AD817DF550>>"
      ]
     },
     "execution_count": 22,
     "metadata": {},
     "output_type": "execute_result"
    }
   ],
   "source": [
    "conn.close"
   ]
  },
  {
   "cell_type": "code",
   "execution_count": null,
   "metadata": {},
   "outputs": [],
   "source": []
  }
 ],
 "metadata": {
  "kernelspec": {
   "display_name": "Python [conda env:pandas] *",
   "language": "python",
   "name": "conda-env-pandas-py"
  },
  "language_info": {
   "codemirror_mode": {
    "name": "ipython",
    "version": 3
   },
   "file_extension": ".py",
   "mimetype": "text/x-python",
   "name": "python",
   "nbconvert_exporter": "python",
   "pygments_lexer": "ipython3",
   "version": "3.6.9"
  }
 },
 "nbformat": 4,
 "nbformat_minor": 2
}
